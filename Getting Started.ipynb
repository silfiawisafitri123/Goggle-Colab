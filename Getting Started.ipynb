{
  "cells": [
    {
      "cell_type": "markdown",
      "metadata": {
        "id": "view-in-github",
        "colab_type": "text"
      },
      "source": [
        "<a href=\"https://colab.research.google.com/github/silfiawisafitri123/Goggle-Colab/blob/main/Getting%20Started.ipynb\" target=\"_parent\"><img src=\"https://colab.research.google.com/assets/colab-badge.svg\" alt=\"Open In Colab\"/></a>"
      ]
    },
    {
      "cell_type": "code",
      "source": [
        "%load_ext rpy2.ipython"
      ],
      "metadata": {
        "colab": {
          "base_uri": "https://localhost:8080/"
        },
        "id": "eJbs643AG8KR",
        "outputId": "87122684-e839-4e16-b050-2594de2892e6"
      },
      "execution_count": 3,
      "outputs": [
        {
          "output_type": "stream",
          "name": "stdout",
          "text": [
            "The rpy2.ipython extension is already loaded. To reload it, use:\n",
            "  %reload_ext rpy2.ipython\n"
          ]
        }
      ]
    },
    {
      "cell_type": "code",
      "source": [
        "%%R\n",
        "mean(abs(rnorm(100)))"
      ],
      "metadata": {
        "colab": {
          "base_uri": "https://localhost:8080/"
        },
        "id": "qME_z32hI4yN",
        "outputId": "b9b92244-919a-422a-e299-3aaa43a36003"
      },
      "execution_count": 4,
      "outputs": [
        {
          "output_type": "stream",
          "name": "stdout",
          "text": [
            "[1] 0.8118105\n"
          ]
        }
      ]
    },
    {
      "cell_type": "code",
      "source": [
        " %%R\n",
        " rnorm(10)"
      ],
      "metadata": {
        "id": "iBB07G870TtE",
        "outputId": "84cd6a05-7516-4bac-c9dd-4f2af40bcedf",
        "colab": {
          "base_uri": "https://localhost:8080/"
        }
      },
      "execution_count": 6,
      "outputs": [
        {
          "output_type": "stream",
          "name": "stdout",
          "text": [
            " [1] -2.13717906 -0.96585686  0.37418392 -1.22256105  0.33441687  1.20836917\n",
            " [7]  1.81525257 -0.04080353  0.23494247  0.05040807\n"
          ]
        }
      ]
    },
    {
      "cell_type": "code",
      "source": [
        "%%R\n",
        "x <- c(1,2,4)\n",
        "x"
      ],
      "metadata": {
        "id": "uCh5EJF20x9P",
        "outputId": "21247aba-af7c-4eb4-8bfe-acce247f824f",
        "colab": {
          "base_uri": "https://localhost:8080/"
        }
      },
      "execution_count": 7,
      "outputs": [
        {
          "output_type": "stream",
          "name": "stdout",
          "text": [
            "[1] 1 2 4\n"
          ]
        }
      ]
    },
    {
      "cell_type": "code",
      "source": [
        "%%R\n",
        "x[3]"
      ],
      "metadata": {
        "id": "kHjiEdnw1g2O",
        "outputId": "cc396d43-dc90-4df8-deb2-be59ad626df4",
        "colab": {
          "base_uri": "https://localhost:8080/"
        }
      },
      "execution_count": 8,
      "outputs": [
        {
          "output_type": "stream",
          "name": "stdout",
          "text": [
            "[1] 4\n"
          ]
        }
      ]
    },
    {
      "cell_type": "code",
      "source": [
        "%%R\n",
        "x[2:3]"
      ],
      "metadata": {
        "id": "dXAuLhcU1rq_",
        "outputId": "1f5e87df-fc02-4a1f-ea43-dc4da4399d89",
        "colab": {
          "base_uri": "https://localhost:8080/"
        }
      },
      "execution_count": 10,
      "outputs": [
        {
          "output_type": "stream",
          "name": "stdout",
          "text": [
            "[1] 2 4\n"
          ]
        }
      ]
    },
    {
      "cell_type": "code",
      "source": [
        "%%R\n",
        " mean(x)"
      ],
      "metadata": {
        "id": "mZAu3MKM13-V",
        "outputId": "6a155346-cd9b-4a8e-c20a-de05343438af",
        "colab": {
          "base_uri": "https://localhost:8080/"
        }
      },
      "execution_count": 11,
      "outputs": [
        {
          "output_type": "stream",
          "name": "stdout",
          "text": [
            "[1] 2.333333\n"
          ]
        }
      ]
    },
    {
      "cell_type": "code",
      "source": [
        "%%R\n",
        " sd(x)"
      ],
      "metadata": {
        "id": "7UjzeJDH1-pt",
        "outputId": "7f828cea-67dd-4bd3-d1a6-d223ee965b81",
        "colab": {
          "base_uri": "https://localhost:8080/"
        }
      },
      "execution_count": 12,
      "outputs": [
        {
          "output_type": "stream",
          "name": "stdout",
          "text": [
            "[1] 1.527525\n"
          ]
        }
      ]
    },
    {
      "cell_type": "code",
      "source": [
        "%%R\n",
        "data()"
      ],
      "metadata": {
        "id": "chJIVs622Iqe",
        "outputId": "79c964c5-ee85-464d-dd8f-799062d09325",
        "colab": {
          "base_uri": "https://localhost:8080/"
        }
      },
      "execution_count": 14,
      "outputs": [
        {
          "output_type": "stream",
          "name": "stdout",
          "text": [
            "File: /tmp/Rtmpqdk5Ng/RpackageIQR3b22d136ac\n",
            "Data sets in package ‘datasets’:\n",
            "\n",
            "\n",
            "\n",
            "AirPassengers           Monthly Airline Passenger Numbers 1949-1960\n",
            "\n",
            "BJsales                 Sales Data with Leading Indicator\n",
            "\n",
            "BJsales.lead (BJsales)\n",
            "\n",
            "                        Sales Data with Leading Indicator\n",
            "\n",
            "BOD                     Biochemical Oxygen Demand\n",
            "\n",
            "CO2                     Carbon Dioxide Uptake in Grass Plants\n",
            "\n",
            "ChickWeight             Weight versus age of chicks on different diets\n",
            "\n",
            "DNase                   Elisa assay of DNase\n",
            "\n",
            "EuStockMarkets          Daily Closing Prices of Major European Stock\n",
            "\n",
            "                        Indices, 1991-1998\n",
            "\n",
            "Formaldehyde            Determination of Formaldehyde\n",
            "\n",
            "HairEyeColor            Hair and Eye Color of Statistics Students\n",
            "\n",
            "Harman23.cor            Harman Example 2.3\n",
            "\n",
            "Harman74.cor            Harman Example 7.4\n",
            "\n",
            "Indometh                Pharmacokinetics of Indomethacin\n",
            "\n",
            "InsectSprays            Effectiveness of Insect Sprays\n",
            "\n",
            "JohnsonJohnson          Quarterly Earnings per Johnson & Johnson Share\n",
            "\n",
            "LakeHuron               Level of Lake Huron 1875-1972\n",
            "\n",
            "LifeCycleSavings        Intercountry Life-Cycle Savings Data\n",
            "\n",
            "Loblolly                Growth of Loblolly pine trees\n",
            "\n",
            "Nile                    Flow of the River Nile\n",
            "\n",
            "Orange                  Growth of Orange Trees\n",
            "\n",
            "OrchardSprays           Potency of Orchard Sprays\n",
            "\n",
            "PlantGrowth             Results from an Experiment on Plant Growth\n",
            "\n",
            "Puromycin               Reaction Velocity of an Enzymatic Reaction\n",
            "\n",
            "Seatbelts               Road Casualties in Great Britain 1969-84\n",
            "\n",
            "Theoph                  Pharmacokinetics of Theophylline\n",
            "\n",
            "Titanic                 Survival of passengers on the Titanic\n",
            "\n",
            "ToothGrowth             The Effect of Vitamin C on Tooth Growth in\n",
            "\n",
            "                        Guinea Pigs\n",
            "\n",
            "UCBAdmissions           Student Admissions at UC Berkeley\n",
            "\n",
            "UKDriverDeaths          Road Casualties in Great Britain 1969-84\n",
            "\n",
            "UKgas                   UK Quarterly Gas Consumption\n",
            "\n",
            "USAccDeaths             Accidental Deaths in the US 1973-1978\n",
            "\n",
            "USArrests               Violent Crime Rates by US State\n",
            "\n",
            "USJudgeRatings          Lawyers' Ratings of State Judges in the US\n",
            "\n",
            "                        Superior Court\n",
            "\n",
            "USPersonalExpenditure   Personal Expenditure Data\n",
            "\n",
            "UScitiesD               Distances Between European Cities and Between\n",
            "\n",
            "                        US Cities\n",
            "\n",
            "VADeaths                Death Rates in Virginia (1940)\n",
            "\n",
            "WWWusage                Internet Usage per Minute\n",
            "\n",
            "WorldPhones             The World's Telephones\n",
            "\n",
            "ability.cov             Ability and Intelligence Tests\n",
            "\n",
            "airmiles                Passenger Miles on Commercial US Airlines,\n",
            "\n",
            "                        1937-1960\n",
            "\n",
            "airquality              New York Air Quality Measurements\n",
            "\n",
            "anscombe                Anscombe's Quartet of 'Identical' Simple Linear\n",
            "\n",
            "                        Regressions\n",
            "\n",
            "attenu                  The Joyner-Boore Attenuation Data\n",
            "\n",
            "attitude                The Chatterjee-Price Attitude Data\n",
            "\n",
            "austres                 Quarterly Time Series of the Number of\n",
            "\n",
            "                        Australian Residents\n",
            "\n",
            "beaver1 (beavers)       Body Temperature Series of Two Beavers\n",
            "\n",
            "beaver2 (beavers)       Body Temperature Series of Two Beavers\n",
            "\n",
            "cars                    Speed and Stopping Distances of Cars\n",
            "\n",
            "chickwts                Chicken Weights by Feed Type\n",
            "\n",
            "co2                     Mauna Loa Atmospheric CO2 Concentration\n",
            "\n",
            "crimtab                 Student's 3000 Criminals Data\n",
            "\n",
            "discoveries             Yearly Numbers of Important Discoveries\n",
            "\n",
            "esoph                   Smoking, Alcohol and (O)esophageal Cancer\n",
            "\n",
            "euro                    Conversion Rates of Euro Currencies\n",
            "\n",
            "euro.cross (euro)       Conversion Rates of Euro Currencies\n",
            "\n",
            "eurodist                Distances Between European Cities and Between\n",
            "\n",
            "                        US Cities\n",
            "\n",
            "faithful                Old Faithful Geyser Data\n",
            "\n",
            "fdeaths (UKLungDeaths)\n",
            "\n",
            "                        Monthly Deaths from Lung Diseases in the UK\n",
            "\n",
            "freeny                  Freeny's Revenue Data\n",
            "\n",
            "freeny.x (freeny)       Freeny's Revenue Data\n",
            "\n",
            "freeny.y (freeny)       Freeny's Revenue Data\n",
            "\n",
            "infert                  Infertility after Spontaneous and Induced\n",
            "\n",
            "                        Abortion\n",
            "\n",
            "iris                    Edgar Anderson's Iris Data\n",
            "\n",
            "iris3                   Edgar Anderson's Iris Data\n",
            "\n",
            "islands                 Areas of the World's Major Landmasses\n",
            "\n",
            "ldeaths (UKLungDeaths)\n",
            "\n",
            "                        Monthly Deaths from Lung Diseases in the UK\n",
            "\n",
            "lh                      Luteinizing Hormone in Blood Samples\n",
            "\n",
            "longley                 Longley's Economic Regression Data\n",
            "\n",
            "lynx                    Annual Canadian Lynx trappings 1821-1934\n",
            "\n",
            "mdeaths (UKLungDeaths)\n",
            "\n",
            "                        Monthly Deaths from Lung Diseases in the UK\n",
            "\n",
            "morley                  Michelson Speed of Light Data\n",
            "\n",
            "mtcars                  Motor Trend Car Road Tests\n",
            "\n",
            "nhtemp                  Average Yearly Temperatures in New Haven\n",
            "\n",
            "nottem                  Average Monthly Temperatures at Nottingham,\n",
            "\n",
            "                        1920-1939\n",
            "\n",
            "npk                     Classical N, P, K Factorial Experiment\n",
            "\n",
            "occupationalStatus      Occupational Status of Fathers and their Sons\n",
            "\n",
            "precip                  Annual Precipitation in US Cities\n",
            "\n",
            "presidents              Quarterly Approval Ratings of US Presidents\n",
            "\n",
            "pressure                Vapor Pressure of Mercury as a Function of\n",
            "\n",
            "                        Temperature\n",
            "\n",
            "quakes                  Locations of Earthquakes off Fiji\n",
            "\n",
            "randu                   Random Numbers from Congruential Generator\n",
            "\n",
            "                        RANDU\n",
            "\n",
            "rivers                  Lengths of Major North American Rivers\n",
            "\n",
            "rock                    Measurements on Petroleum Rock Samples\n",
            "\n",
            "sleep                   Student's Sleep Data\n",
            "\n",
            "stack.loss (stackloss)\n",
            "\n",
            "                        Brownlee's Stack Loss Plant Data\n",
            "\n",
            "stack.x (stackloss)     Brownlee's Stack Loss Plant Data\n",
            "\n",
            "stackloss               Brownlee's Stack Loss Plant Data\n",
            "\n",
            "state.abb (state)       US State Facts and Figures\n",
            "\n",
            "state.area (state)      US State Facts and Figures\n",
            "\n",
            "state.center (state)    US State Facts and Figures\n",
            "\n",
            "state.division (state)\n",
            "\n",
            "                        US State Facts and Figures\n",
            "\n",
            "state.name (state)      US State Facts and Figures\n",
            "\n",
            "state.region (state)    US State Facts and Figures\n",
            "\n",
            "state.x77 (state)       US State Facts and Figures\n",
            "\n",
            "sunspot.month           Monthly Sunspot Data, from 1749 to \"Present\"\n",
            "\n",
            "sunspot.year            Yearly Sunspot Data, 1700-1988\n",
            "\n",
            "sunspots                Monthly Sunspot Numbers, 1749-1983\n",
            "\n",
            "swiss                   Swiss Fertility and Socioeconomic Indicators\n",
            "\n",
            "                        (1888) Data\n",
            "\n",
            "treering                Yearly Treering Data, -6000-1979\n",
            "\n",
            "trees                   Diameter, Height and Volume for Black Cherry\n",
            "\n",
            "                        Trees\n",
            "\n",
            "uspop                   Populations Recorded by the US Census\n",
            "\n",
            "volcano                 Topographic Information on Auckland's Maunga\n",
            "\n",
            "                        Whau Volcano\n",
            "\n",
            "warpbreaks              The Number of Breaks in Yarn during Weaving\n",
            "\n",
            "women                   Average Heights and Weights for American Women\n",
            "\n",
            "\n",
            "\n",
            "\n",
            "\n",
            "Use ‘data(package = .packages(all.available = TRUE))’\n",
            "\n",
            "to list the data sets in all *available* packages.\n",
            "\n",
            "---\n"
          ]
        }
      ]
    },
    {
      "cell_type": "code",
      "source": [
        "%%R\n",
        "Nile"
      ],
      "metadata": {
        "id": "6iKQy94k2YRe",
        "outputId": "db7ba2a1-1694-472a-fb2e-6024a7b33604",
        "colab": {
          "base_uri": "https://localhost:8080/"
        }
      },
      "execution_count": 15,
      "outputs": [
        {
          "output_type": "stream",
          "name": "stdout",
          "text": [
            "Time Series:\n",
            "Start = 1871 \n",
            "End = 1970 \n",
            "Frequency = 1 \n",
            "  [1] 1120 1160  963 1210 1160 1160  813 1230 1370 1140  995  935 1110  994 1020\n",
            " [16]  960 1180  799  958 1140 1100 1210 1150 1250 1260 1220 1030 1100  774  840\n",
            " [31]  874  694  940  833  701  916  692 1020 1050  969  831  726  456  824  702\n",
            " [46] 1120 1100  832  764  821  768  845  864  862  698  845  744  796 1040  759\n",
            " [61]  781  865  845  944  984  897  822 1010  771  676  649  846  812  742  801\n",
            " [76] 1040  860  874  848  890  744  749  838 1050  918  986  797  923  975  815\n",
            " [91] 1020  906  901 1170  912  746  919  718  714  740\n"
          ]
        }
      ]
    },
    {
      "cell_type": "code",
      "source": [
        "%%R\n",
        "hist(Nile)"
      ],
      "metadata": {
        "id": "-D0gbDzZ2ejy",
        "outputId": "87f7d650-7334-4ac1-c583-93eb8a3854e2",
        "colab": {
          "base_uri": "https://localhost:8080/",
          "height": 497
        }
      },
      "execution_count": 16,
      "outputs": [
        {
          "output_type": "display_data",
          "data": {
            "image/png": "[encoded data removed]"
          },
          "metadata": {}
        }
      ]
    },
    {
      "cell_type": "code",
      "source": [
        "%%R\n",
        "# counts the number of odd integers in x\n",
        " oddcount <- function(x) {\n",
        " k <- 0 # assign 0 to k\n",
        " for (n in x) {\n",
        " if (n %% 2 == 1) k <- k+1 # %% is the modulo operator\n",
        " }\n",
        " return(k)\n",
        " }"
      ],
      "metadata": {
        "id": "R6UTzJWI2o0R"
      },
      "execution_count": 19,
      "outputs": []
    },
    {
      "cell_type": "code",
      "source": [
        "%%R\n",
        "oddcount(c(1,3,5))"
      ],
      "metadata": {
        "id": "uuO9p_gX26IR",
        "outputId": "94740ac8-1b8b-4654-adb2-c82ac4eaffc8",
        "colab": {
          "base_uri": "https://localhost:8080/"
        }
      },
      "execution_count": 20,
      "outputs": [
        {
          "output_type": "stream",
          "name": "stdout",
          "text": [
            "[1] 3\n"
          ]
        }
      ]
    }
  ],
  "metadata": {
    "colab": {
      "collapsed_sections": [],
      "name": "Welcome To Colaboratory",
      "provenance": [],
      "include_colab_link": true
    },
    "kernelspec": {
      "display_name": "Python 3",
      "name": "python3"
    }
  },
  "nbformat": 4,
  "nbformat_minor": 0
}